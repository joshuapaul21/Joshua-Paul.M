{
  "nbformat": 4,
  "nbformat_minor": 0,
  "metadata": {
    "colab": {
      "provenance": []
    },
    "kernelspec": {
      "name": "python3",
      "display_name": "Python 3"
    },
    "language_info": {
      "name": "python"
    }
  },
  "cells": [
    {
      "cell_type": "code",
      "execution_count": 74,
      "metadata": {
        "id": "RlxI1Ou9MzWk"
      },
      "outputs": [],
      "source": [
        "import pandas as pd\n",
        "import numpy as np\n",
        "import matplotlib.pyplot as plt\n",
        "import seaborn as sns\n",
        "from sklearn.model_selection import train_test_split\n",
        "from sklearn.metrics import confusion_matrix\n",
        "from sklearn.metrics import accuracy_score\n",
        "from sklearn.preprocessing import StandardScaler\n",
        "from sklearn import metrics\n",
        "from sklearn.neighbors import KNeighborsClassifier"
      ]
    },
    {
      "cell_type": "code",
      "source": [
        "df=pd.read_csv('IRIS.csv')"
      ],
      "metadata": {
        "id": "4Zy-N-AZSwjd"
      },
      "execution_count": 75,
      "outputs": []
    },
    {
      "cell_type": "code",
      "source": [
        "df.head()"
      ],
      "metadata": {
        "colab": {
          "base_uri": "https://localhost:8080/",
          "height": 206
        },
        "id": "EoYJWhpxTOIE",
        "outputId": "5e28c19c-7c9c-4b59-8cd9-86e0926a28ae"
      },
      "execution_count": 76,
      "outputs": [
        {
          "output_type": "execute_result",
          "data": {
            "text/plain": [
              "   sepal_length  sepal_width  petal_length  petal_width      species\n",
              "0           5.1          3.5           1.4          0.2  Iris-setosa\n",
              "1           4.9          3.0           1.4          0.2  Iris-setosa\n",
              "2           4.7          3.2           1.3          0.2  Iris-setosa\n",
              "3           4.6          3.1           1.5          0.2  Iris-setosa\n",
              "4           5.0          3.6           1.4          0.2  Iris-setosa"
            ],
            "text/html": [
              "\n",
              "  <div id=\"df-fba44728-23f5-429d-ad11-0604750131ff\">\n",
              "    <div class=\"colab-df-container\">\n",
              "      <div>\n",
              "<style scoped>\n",
              "    .dataframe tbody tr th:only-of-type {\n",
              "        vertical-align: middle;\n",
              "    }\n",
              "\n",
              "    .dataframe tbody tr th {\n",
              "        vertical-align: top;\n",
              "    }\n",
              "\n",
              "    .dataframe thead th {\n",
              "        text-align: right;\n",
              "    }\n",
              "</style>\n",
              "<table border=\"1\" class=\"dataframe\">\n",
              "  <thead>\n",
              "    <tr style=\"text-align: right;\">\n",
              "      <th></th>\n",
              "      <th>sepal_length</th>\n",
              "      <th>sepal_width</th>\n",
              "      <th>petal_length</th>\n",
              "      <th>petal_width</th>\n",
              "      <th>species</th>\n",
              "    </tr>\n",
              "  </thead>\n",
              "  <tbody>\n",
              "    <tr>\n",
              "      <th>0</th>\n",
              "      <td>5.1</td>\n",
              "      <td>3.5</td>\n",
              "      <td>1.4</td>\n",
              "      <td>0.2</td>\n",
              "      <td>Iris-setosa</td>\n",
              "    </tr>\n",
              "    <tr>\n",
              "      <th>1</th>\n",
              "      <td>4.9</td>\n",
              "      <td>3.0</td>\n",
              "      <td>1.4</td>\n",
              "      <td>0.2</td>\n",
              "      <td>Iris-setosa</td>\n",
              "    </tr>\n",
              "    <tr>\n",
              "      <th>2</th>\n",
              "      <td>4.7</td>\n",
              "      <td>3.2</td>\n",
              "      <td>1.3</td>\n",
              "      <td>0.2</td>\n",
              "      <td>Iris-setosa</td>\n",
              "    </tr>\n",
              "    <tr>\n",
              "      <th>3</th>\n",
              "      <td>4.6</td>\n",
              "      <td>3.1</td>\n",
              "      <td>1.5</td>\n",
              "      <td>0.2</td>\n",
              "      <td>Iris-setosa</td>\n",
              "    </tr>\n",
              "    <tr>\n",
              "      <th>4</th>\n",
              "      <td>5.0</td>\n",
              "      <td>3.6</td>\n",
              "      <td>1.4</td>\n",
              "      <td>0.2</td>\n",
              "      <td>Iris-setosa</td>\n",
              "    </tr>\n",
              "  </tbody>\n",
              "</table>\n",
              "</div>\n",
              "      <button class=\"colab-df-convert\" onclick=\"convertToInteractive('df-fba44728-23f5-429d-ad11-0604750131ff')\"\n",
              "              title=\"Convert this dataframe to an interactive table.\"\n",
              "              style=\"display:none;\">\n",
              "        \n",
              "  <svg xmlns=\"http://www.w3.org/2000/svg\" height=\"24px\"viewBox=\"0 0 24 24\"\n",
              "       width=\"24px\">\n",
              "    <path d=\"M0 0h24v24H0V0z\" fill=\"none\"/>\n",
              "    <path d=\"M18.56 5.44l.94 2.06.94-2.06 2.06-.94-2.06-.94-.94-2.06-.94 2.06-2.06.94zm-11 1L8.5 8.5l.94-2.06 2.06-.94-2.06-.94L8.5 2.5l-.94 2.06-2.06.94zm10 10l.94 2.06.94-2.06 2.06-.94-2.06-.94-.94-2.06-.94 2.06-2.06.94z\"/><path d=\"M17.41 7.96l-1.37-1.37c-.4-.4-.92-.59-1.43-.59-.52 0-1.04.2-1.43.59L10.3 9.45l-7.72 7.72c-.78.78-.78 2.05 0 2.83L4 21.41c.39.39.9.59 1.41.59.51 0 1.02-.2 1.41-.59l7.78-7.78 2.81-2.81c.8-.78.8-2.07 0-2.86zM5.41 20L4 18.59l7.72-7.72 1.47 1.35L5.41 20z\"/>\n",
              "  </svg>\n",
              "      </button>\n",
              "      \n",
              "  <style>\n",
              "    .colab-df-container {\n",
              "      display:flex;\n",
              "      flex-wrap:wrap;\n",
              "      gap: 12px;\n",
              "    }\n",
              "\n",
              "    .colab-df-convert {\n",
              "      background-color: #E8F0FE;\n",
              "      border: none;\n",
              "      border-radius: 50%;\n",
              "      cursor: pointer;\n",
              "      display: none;\n",
              "      fill: #1967D2;\n",
              "      height: 32px;\n",
              "      padding: 0 0 0 0;\n",
              "      width: 32px;\n",
              "    }\n",
              "\n",
              "    .colab-df-convert:hover {\n",
              "      background-color: #E2EBFA;\n",
              "      box-shadow: 0px 1px 2px rgba(60, 64, 67, 0.3), 0px 1px 3px 1px rgba(60, 64, 67, 0.15);\n",
              "      fill: #174EA6;\n",
              "    }\n",
              "\n",
              "    [theme=dark] .colab-df-convert {\n",
              "      background-color: #3B4455;\n",
              "      fill: #D2E3FC;\n",
              "    }\n",
              "\n",
              "    [theme=dark] .colab-df-convert:hover {\n",
              "      background-color: #434B5C;\n",
              "      box-shadow: 0px 1px 3px 1px rgba(0, 0, 0, 0.15);\n",
              "      filter: drop-shadow(0px 1px 2px rgba(0, 0, 0, 0.3));\n",
              "      fill: #FFFFFF;\n",
              "    }\n",
              "  </style>\n",
              "\n",
              "      <script>\n",
              "        const buttonEl =\n",
              "          document.querySelector('#df-fba44728-23f5-429d-ad11-0604750131ff button.colab-df-convert');\n",
              "        buttonEl.style.display =\n",
              "          google.colab.kernel.accessAllowed ? 'block' : 'none';\n",
              "\n",
              "        async function convertToInteractive(key) {\n",
              "          const element = document.querySelector('#df-fba44728-23f5-429d-ad11-0604750131ff');\n",
              "          const dataTable =\n",
              "            await google.colab.kernel.invokeFunction('convertToInteractive',\n",
              "                                                     [key], {});\n",
              "          if (!dataTable) return;\n",
              "\n",
              "          const docLinkHtml = 'Like what you see? Visit the ' +\n",
              "            '<a target=\"_blank\" href=https://colab.research.google.com/notebooks/data_table.ipynb>data table notebook</a>'\n",
              "            + ' to learn more about interactive tables.';\n",
              "          element.innerHTML = '';\n",
              "          dataTable['output_type'] = 'display_data';\n",
              "          await google.colab.output.renderOutput(dataTable, element);\n",
              "          const docLink = document.createElement('div');\n",
              "          docLink.innerHTML = docLinkHtml;\n",
              "          element.appendChild(docLink);\n",
              "        }\n",
              "      </script>\n",
              "    </div>\n",
              "  </div>\n",
              "  "
            ]
          },
          "metadata": {},
          "execution_count": 76
        }
      ]
    },
    {
      "cell_type": "code",
      "source": [
        "df.tail()"
      ],
      "metadata": {
        "colab": {
          "base_uri": "https://localhost:8080/",
          "height": 206
        },
        "id": "jRgWrJ62TQYk",
        "outputId": "d82cf580-a5b0-4b43-a1f8-46e0f18128b3"
      },
      "execution_count": 77,
      "outputs": [
        {
          "output_type": "execute_result",
          "data": {
            "text/plain": [
              "     sepal_length  sepal_width  petal_length  petal_width         species\n",
              "145           6.7          3.0           5.2          2.3  Iris-virginica\n",
              "146           6.3          2.5           5.0          1.9  Iris-virginica\n",
              "147           6.5          3.0           5.2          2.0  Iris-virginica\n",
              "148           6.2          3.4           5.4          2.3  Iris-virginica\n",
              "149           5.9          3.0           5.1          1.8  Iris-virginica"
            ],
            "text/html": [
              "\n",
              "  <div id=\"df-0fb178e3-2b62-4175-8c2f-698f56cd7a2c\">\n",
              "    <div class=\"colab-df-container\">\n",
              "      <div>\n",
              "<style scoped>\n",
              "    .dataframe tbody tr th:only-of-type {\n",
              "        vertical-align: middle;\n",
              "    }\n",
              "\n",
              "    .dataframe tbody tr th {\n",
              "        vertical-align: top;\n",
              "    }\n",
              "\n",
              "    .dataframe thead th {\n",
              "        text-align: right;\n",
              "    }\n",
              "</style>\n",
              "<table border=\"1\" class=\"dataframe\">\n",
              "  <thead>\n",
              "    <tr style=\"text-align: right;\">\n",
              "      <th></th>\n",
              "      <th>sepal_length</th>\n",
              "      <th>sepal_width</th>\n",
              "      <th>petal_length</th>\n",
              "      <th>petal_width</th>\n",
              "      <th>species</th>\n",
              "    </tr>\n",
              "  </thead>\n",
              "  <tbody>\n",
              "    <tr>\n",
              "      <th>145</th>\n",
              "      <td>6.7</td>\n",
              "      <td>3.0</td>\n",
              "      <td>5.2</td>\n",
              "      <td>2.3</td>\n",
              "      <td>Iris-virginica</td>\n",
              "    </tr>\n",
              "    <tr>\n",
              "      <th>146</th>\n",
              "      <td>6.3</td>\n",
              "      <td>2.5</td>\n",
              "      <td>5.0</td>\n",
              "      <td>1.9</td>\n",
              "      <td>Iris-virginica</td>\n",
              "    </tr>\n",
              "    <tr>\n",
              "      <th>147</th>\n",
              "      <td>6.5</td>\n",
              "      <td>3.0</td>\n",
              "      <td>5.2</td>\n",
              "      <td>2.0</td>\n",
              "      <td>Iris-virginica</td>\n",
              "    </tr>\n",
              "    <tr>\n",
              "      <th>148</th>\n",
              "      <td>6.2</td>\n",
              "      <td>3.4</td>\n",
              "      <td>5.4</td>\n",
              "      <td>2.3</td>\n",
              "      <td>Iris-virginica</td>\n",
              "    </tr>\n",
              "    <tr>\n",
              "      <th>149</th>\n",
              "      <td>5.9</td>\n",
              "      <td>3.0</td>\n",
              "      <td>5.1</td>\n",
              "      <td>1.8</td>\n",
              "      <td>Iris-virginica</td>\n",
              "    </tr>\n",
              "  </tbody>\n",
              "</table>\n",
              "</div>\n",
              "      <button class=\"colab-df-convert\" onclick=\"convertToInteractive('df-0fb178e3-2b62-4175-8c2f-698f56cd7a2c')\"\n",
              "              title=\"Convert this dataframe to an interactive table.\"\n",
              "              style=\"display:none;\">\n",
              "        \n",
              "  <svg xmlns=\"http://www.w3.org/2000/svg\" height=\"24px\"viewBox=\"0 0 24 24\"\n",
              "       width=\"24px\">\n",
              "    <path d=\"M0 0h24v24H0V0z\" fill=\"none\"/>\n",
              "    <path d=\"M18.56 5.44l.94 2.06.94-2.06 2.06-.94-2.06-.94-.94-2.06-.94 2.06-2.06.94zm-11 1L8.5 8.5l.94-2.06 2.06-.94-2.06-.94L8.5 2.5l-.94 2.06-2.06.94zm10 10l.94 2.06.94-2.06 2.06-.94-2.06-.94-.94-2.06-.94 2.06-2.06.94z\"/><path d=\"M17.41 7.96l-1.37-1.37c-.4-.4-.92-.59-1.43-.59-.52 0-1.04.2-1.43.59L10.3 9.45l-7.72 7.72c-.78.78-.78 2.05 0 2.83L4 21.41c.39.39.9.59 1.41.59.51 0 1.02-.2 1.41-.59l7.78-7.78 2.81-2.81c.8-.78.8-2.07 0-2.86zM5.41 20L4 18.59l7.72-7.72 1.47 1.35L5.41 20z\"/>\n",
              "  </svg>\n",
              "      </button>\n",
              "      \n",
              "  <style>\n",
              "    .colab-df-container {\n",
              "      display:flex;\n",
              "      flex-wrap:wrap;\n",
              "      gap: 12px;\n",
              "    }\n",
              "\n",
              "    .colab-df-convert {\n",
              "      background-color: #E8F0FE;\n",
              "      border: none;\n",
              "      border-radius: 50%;\n",
              "      cursor: pointer;\n",
              "      display: none;\n",
              "      fill: #1967D2;\n",
              "      height: 32px;\n",
              "      padding: 0 0 0 0;\n",
              "      width: 32px;\n",
              "    }\n",
              "\n",
              "    .colab-df-convert:hover {\n",
              "      background-color: #E2EBFA;\n",
              "      box-shadow: 0px 1px 2px rgba(60, 64, 67, 0.3), 0px 1px 3px 1px rgba(60, 64, 67, 0.15);\n",
              "      fill: #174EA6;\n",
              "    }\n",
              "\n",
              "    [theme=dark] .colab-df-convert {\n",
              "      background-color: #3B4455;\n",
              "      fill: #D2E3FC;\n",
              "    }\n",
              "\n",
              "    [theme=dark] .colab-df-convert:hover {\n",
              "      background-color: #434B5C;\n",
              "      box-shadow: 0px 1px 3px 1px rgba(0, 0, 0, 0.15);\n",
              "      filter: drop-shadow(0px 1px 2px rgba(0, 0, 0, 0.3));\n",
              "      fill: #FFFFFF;\n",
              "    }\n",
              "  </style>\n",
              "\n",
              "      <script>\n",
              "        const buttonEl =\n",
              "          document.querySelector('#df-0fb178e3-2b62-4175-8c2f-698f56cd7a2c button.colab-df-convert');\n",
              "        buttonEl.style.display =\n",
              "          google.colab.kernel.accessAllowed ? 'block' : 'none';\n",
              "\n",
              "        async function convertToInteractive(key) {\n",
              "          const element = document.querySelector('#df-0fb178e3-2b62-4175-8c2f-698f56cd7a2c');\n",
              "          const dataTable =\n",
              "            await google.colab.kernel.invokeFunction('convertToInteractive',\n",
              "                                                     [key], {});\n",
              "          if (!dataTable) return;\n",
              "\n",
              "          const docLinkHtml = 'Like what you see? Visit the ' +\n",
              "            '<a target=\"_blank\" href=https://colab.research.google.com/notebooks/data_table.ipynb>data table notebook</a>'\n",
              "            + ' to learn more about interactive tables.';\n",
              "          element.innerHTML = '';\n",
              "          dataTable['output_type'] = 'display_data';\n",
              "          await google.colab.output.renderOutput(dataTable, element);\n",
              "          const docLink = document.createElement('div');\n",
              "          docLink.innerHTML = docLinkHtml;\n",
              "          element.appendChild(docLink);\n",
              "        }\n",
              "      </script>\n",
              "    </div>\n",
              "  </div>\n",
              "  "
            ]
          },
          "metadata": {},
          "execution_count": 77
        }
      ]
    },
    {
      "cell_type": "code",
      "source": [
        "df.shape"
      ],
      "metadata": {
        "colab": {
          "base_uri": "https://localhost:8080/"
        },
        "id": "HV5n4hdATRrM",
        "outputId": "972cde4c-bac4-4f0f-d562-5e41c1e71662"
      },
      "execution_count": 78,
      "outputs": [
        {
          "output_type": "execute_result",
          "data": {
            "text/plain": [
              "(150, 5)"
            ]
          },
          "metadata": {},
          "execution_count": 78
        }
      ]
    },
    {
      "cell_type": "code",
      "source": [
        "df.isna().sum()"
      ],
      "metadata": {
        "colab": {
          "base_uri": "https://localhost:8080/"
        },
        "id": "KS-tXk1xTUhU",
        "outputId": "de8e7396-1174-4c16-cb2e-54ae9a35282e"
      },
      "execution_count": 79,
      "outputs": [
        {
          "output_type": "execute_result",
          "data": {
            "text/plain": [
              "sepal_length    0\n",
              "sepal_width     0\n",
              "petal_length    0\n",
              "petal_width     0\n",
              "species         0\n",
              "dtype: int64"
            ]
          },
          "metadata": {},
          "execution_count": 79
        }
      ]
    },
    {
      "cell_type": "code",
      "source": [
        "df.isnull()"
      ],
      "metadata": {
        "colab": {
          "base_uri": "https://localhost:8080/",
          "height": 424
        },
        "id": "Dd3YhyqDTavk",
        "outputId": "1efc70a1-f436-4958-bed8-5146d435d3e4"
      },
      "execution_count": 80,
      "outputs": [
        {
          "output_type": "execute_result",
          "data": {
            "text/plain": [
              "     sepal_length  sepal_width  petal_length  petal_width  species\n",
              "0           False        False         False        False    False\n",
              "1           False        False         False        False    False\n",
              "2           False        False         False        False    False\n",
              "3           False        False         False        False    False\n",
              "4           False        False         False        False    False\n",
              "..            ...          ...           ...          ...      ...\n",
              "145         False        False         False        False    False\n",
              "146         False        False         False        False    False\n",
              "147         False        False         False        False    False\n",
              "148         False        False         False        False    False\n",
              "149         False        False         False        False    False\n",
              "\n",
              "[150 rows x 5 columns]"
            ],
            "text/html": [
              "\n",
              "  <div id=\"df-92ee3c42-0f66-43fd-a134-f797df5a6880\">\n",
              "    <div class=\"colab-df-container\">\n",
              "      <div>\n",
              "<style scoped>\n",
              "    .dataframe tbody tr th:only-of-type {\n",
              "        vertical-align: middle;\n",
              "    }\n",
              "\n",
              "    .dataframe tbody tr th {\n",
              "        vertical-align: top;\n",
              "    }\n",
              "\n",
              "    .dataframe thead th {\n",
              "        text-align: right;\n",
              "    }\n",
              "</style>\n",
              "<table border=\"1\" class=\"dataframe\">\n",
              "  <thead>\n",
              "    <tr style=\"text-align: right;\">\n",
              "      <th></th>\n",
              "      <th>sepal_length</th>\n",
              "      <th>sepal_width</th>\n",
              "      <th>petal_length</th>\n",
              "      <th>petal_width</th>\n",
              "      <th>species</th>\n",
              "    </tr>\n",
              "  </thead>\n",
              "  <tbody>\n",
              "    <tr>\n",
              "      <th>0</th>\n",
              "      <td>False</td>\n",
              "      <td>False</td>\n",
              "      <td>False</td>\n",
              "      <td>False</td>\n",
              "      <td>False</td>\n",
              "    </tr>\n",
              "    <tr>\n",
              "      <th>1</th>\n",
              "      <td>False</td>\n",
              "      <td>False</td>\n",
              "      <td>False</td>\n",
              "      <td>False</td>\n",
              "      <td>False</td>\n",
              "    </tr>\n",
              "    <tr>\n",
              "      <th>2</th>\n",
              "      <td>False</td>\n",
              "      <td>False</td>\n",
              "      <td>False</td>\n",
              "      <td>False</td>\n",
              "      <td>False</td>\n",
              "    </tr>\n",
              "    <tr>\n",
              "      <th>3</th>\n",
              "      <td>False</td>\n",
              "      <td>False</td>\n",
              "      <td>False</td>\n",
              "      <td>False</td>\n",
              "      <td>False</td>\n",
              "    </tr>\n",
              "    <tr>\n",
              "      <th>4</th>\n",
              "      <td>False</td>\n",
              "      <td>False</td>\n",
              "      <td>False</td>\n",
              "      <td>False</td>\n",
              "      <td>False</td>\n",
              "    </tr>\n",
              "    <tr>\n",
              "      <th>...</th>\n",
              "      <td>...</td>\n",
              "      <td>...</td>\n",
              "      <td>...</td>\n",
              "      <td>...</td>\n",
              "      <td>...</td>\n",
              "    </tr>\n",
              "    <tr>\n",
              "      <th>145</th>\n",
              "      <td>False</td>\n",
              "      <td>False</td>\n",
              "      <td>False</td>\n",
              "      <td>False</td>\n",
              "      <td>False</td>\n",
              "    </tr>\n",
              "    <tr>\n",
              "      <th>146</th>\n",
              "      <td>False</td>\n",
              "      <td>False</td>\n",
              "      <td>False</td>\n",
              "      <td>False</td>\n",
              "      <td>False</td>\n",
              "    </tr>\n",
              "    <tr>\n",
              "      <th>147</th>\n",
              "      <td>False</td>\n",
              "      <td>False</td>\n",
              "      <td>False</td>\n",
              "      <td>False</td>\n",
              "      <td>False</td>\n",
              "    </tr>\n",
              "    <tr>\n",
              "      <th>148</th>\n",
              "      <td>False</td>\n",
              "      <td>False</td>\n",
              "      <td>False</td>\n",
              "      <td>False</td>\n",
              "      <td>False</td>\n",
              "    </tr>\n",
              "    <tr>\n",
              "      <th>149</th>\n",
              "      <td>False</td>\n",
              "      <td>False</td>\n",
              "      <td>False</td>\n",
              "      <td>False</td>\n",
              "      <td>False</td>\n",
              "    </tr>\n",
              "  </tbody>\n",
              "</table>\n",
              "<p>150 rows × 5 columns</p>\n",
              "</div>\n",
              "      <button class=\"colab-df-convert\" onclick=\"convertToInteractive('df-92ee3c42-0f66-43fd-a134-f797df5a6880')\"\n",
              "              title=\"Convert this dataframe to an interactive table.\"\n",
              "              style=\"display:none;\">\n",
              "        \n",
              "  <svg xmlns=\"http://www.w3.org/2000/svg\" height=\"24px\"viewBox=\"0 0 24 24\"\n",
              "       width=\"24px\">\n",
              "    <path d=\"M0 0h24v24H0V0z\" fill=\"none\"/>\n",
              "    <path d=\"M18.56 5.44l.94 2.06.94-2.06 2.06-.94-2.06-.94-.94-2.06-.94 2.06-2.06.94zm-11 1L8.5 8.5l.94-2.06 2.06-.94-2.06-.94L8.5 2.5l-.94 2.06-2.06.94zm10 10l.94 2.06.94-2.06 2.06-.94-2.06-.94-.94-2.06-.94 2.06-2.06.94z\"/><path d=\"M17.41 7.96l-1.37-1.37c-.4-.4-.92-.59-1.43-.59-.52 0-1.04.2-1.43.59L10.3 9.45l-7.72 7.72c-.78.78-.78 2.05 0 2.83L4 21.41c.39.39.9.59 1.41.59.51 0 1.02-.2 1.41-.59l7.78-7.78 2.81-2.81c.8-.78.8-2.07 0-2.86zM5.41 20L4 18.59l7.72-7.72 1.47 1.35L5.41 20z\"/>\n",
              "  </svg>\n",
              "      </button>\n",
              "      \n",
              "  <style>\n",
              "    .colab-df-container {\n",
              "      display:flex;\n",
              "      flex-wrap:wrap;\n",
              "      gap: 12px;\n",
              "    }\n",
              "\n",
              "    .colab-df-convert {\n",
              "      background-color: #E8F0FE;\n",
              "      border: none;\n",
              "      border-radius: 50%;\n",
              "      cursor: pointer;\n",
              "      display: none;\n",
              "      fill: #1967D2;\n",
              "      height: 32px;\n",
              "      padding: 0 0 0 0;\n",
              "      width: 32px;\n",
              "    }\n",
              "\n",
              "    .colab-df-convert:hover {\n",
              "      background-color: #E2EBFA;\n",
              "      box-shadow: 0px 1px 2px rgba(60, 64, 67, 0.3), 0px 1px 3px 1px rgba(60, 64, 67, 0.15);\n",
              "      fill: #174EA6;\n",
              "    }\n",
              "\n",
              "    [theme=dark] .colab-df-convert {\n",
              "      background-color: #3B4455;\n",
              "      fill: #D2E3FC;\n",
              "    }\n",
              "\n",
              "    [theme=dark] .colab-df-convert:hover {\n",
              "      background-color: #434B5C;\n",
              "      box-shadow: 0px 1px 3px 1px rgba(0, 0, 0, 0.15);\n",
              "      filter: drop-shadow(0px 1px 2px rgba(0, 0, 0, 0.3));\n",
              "      fill: #FFFFFF;\n",
              "    }\n",
              "  </style>\n",
              "\n",
              "      <script>\n",
              "        const buttonEl =\n",
              "          document.querySelector('#df-92ee3c42-0f66-43fd-a134-f797df5a6880 button.colab-df-convert');\n",
              "        buttonEl.style.display =\n",
              "          google.colab.kernel.accessAllowed ? 'block' : 'none';\n",
              "\n",
              "        async function convertToInteractive(key) {\n",
              "          const element = document.querySelector('#df-92ee3c42-0f66-43fd-a134-f797df5a6880');\n",
              "          const dataTable =\n",
              "            await google.colab.kernel.invokeFunction('convertToInteractive',\n",
              "                                                     [key], {});\n",
              "          if (!dataTable) return;\n",
              "\n",
              "          const docLinkHtml = 'Like what you see? Visit the ' +\n",
              "            '<a target=\"_blank\" href=https://colab.research.google.com/notebooks/data_table.ipynb>data table notebook</a>'\n",
              "            + ' to learn more about interactive tables.';\n",
              "          element.innerHTML = '';\n",
              "          dataTable['output_type'] = 'display_data';\n",
              "          await google.colab.output.renderOutput(dataTable, element);\n",
              "          const docLink = document.createElement('div');\n",
              "          docLink.innerHTML = docLinkHtml;\n",
              "          element.appendChild(docLink);\n",
              "        }\n",
              "      </script>\n",
              "    </div>\n",
              "  </div>\n",
              "  "
            ]
          },
          "metadata": {},
          "execution_count": 80
        }
      ]
    },
    {
      "cell_type": "code",
      "source": [
        "X = df.sepal_length\n",
        "Y = df.sepal_width\n",
        "plt.bar(X,Y)"
      ],
      "metadata": {
        "colab": {
          "base_uri": "https://localhost:8080/",
          "height": 282
        },
        "id": "S8RH2bNcVj1E",
        "outputId": "19ef58cd-441e-44e5-8407-3d226f7a0ed4"
      },
      "execution_count": 81,
      "outputs": [
        {
          "output_type": "execute_result",
          "data": {
            "text/plain": [
              "<BarContainer object of 150 artists>"
            ]
          },
          "metadata": {},
          "execution_count": 81
        },
        {
          "output_type": "display_data",
          "data": {
            "text/plain": [
              "<Figure size 432x288 with 1 Axes>"
            ],
            "image/png": "[encoded data removed]"
          },
          "metadata": {
            "needs_background": "light"
          }
        }
      ]
    },
    {
      "cell_type": "code",
      "source": [
        "X = df.sepal_length\n",
        "plt.pie(X)"
      ],
      "metadata": {
        "colab": {
          "base_uri": "https://localhost:8080/",
          "height": 1000
        },
        "id": "qnKnnyjLWEVM",
        "outputId": "2d803e74-92ba-4475-ab77-42a75e7db683"
      },
      "execution_count": 82,
      "outputs": [
        {
          "output_type": "execute_result",
          "data": {
            "text/plain": [
              "([<matplotlib.patches.Wedge at 0x7f0f5d63c910>,\n",
              "  <matplotlib.patches.Wedge at 0x7f0f5d63cd00>,\n",
              "  <matplotlib.patches.Wedge at 0x7f0f5d649c40>,\n",
              "  <matplotlib.patches.Wedge at 0x7f0f5d6492e0>,\n",
              "  <matplotlib.patches.Wedge at 0x7f0f5d641eb0>,\n",
              "  <matplotlib.patches.Wedge at 0x7f0f5d641400>,\n",
              "  <matplotlib.patches.Wedge at 0x7f0f5d641370>,\n",
              "  <matplotlib.patches.Wedge at 0x7f0f5d577d60>,\n",
              "  <matplotlib.patches.Wedge at 0x7f0f5d5778e0>,\n",
              "  <matplotlib.patches.Wedge at 0x7f0f5d572a90>,\n",
              "  <matplotlib.patches.Wedge at 0x7f0f5d63ce50>,\n",
              "  <matplotlib.patches.Wedge at 0x7f0f5d572d60>,\n",
              "  <matplotlib.patches.Wedge at 0x7f0f5d6d5f10>,\n",
              "  <matplotlib.patches.Wedge at 0x7f0f5dd3b0a0>,\n",
              "  <matplotlib.patches.Wedge at 0x7f0f5d671be0>,\n",
              "  <matplotlib.patches.Wedge at 0x7f0f5d6711c0>,\n",
              "  <matplotlib.patches.Wedge at 0x7f0f5d6e88b0>,\n",
              "  <matplotlib.patches.Wedge at 0x7f0f5d7a89a0>,\n",
              "  <matplotlib.patches.Wedge at 0x7f0f5f730a30>,\n",
              "  <matplotlib.patches.Wedge at 0x7f0f5f730970>,\n",
              "  <matplotlib.patches.Wedge at 0x7f0f5f730820>,\n",
              "  <matplotlib.patches.Wedge at 0x7f0f5f7ce9a0>,\n",
              "  <matplotlib.patches.Wedge at 0x7f0f5f7cec40>,\n",
              "  <matplotlib.patches.Wedge at 0x7f0f5f7ce310>,\n",
              "  <matplotlib.patches.Wedge at 0x7f0f5f6f0070>,\n",
              "  <matplotlib.patches.Wedge at 0x7f0f5f6f0e20>,\n",
              "  <matplotlib.patches.Wedge at 0x7f0f5f6f0940>,\n",
              "  <matplotlib.patches.Wedge at 0x7f0f5f71c610>,\n",
              "  <matplotlib.patches.Wedge at 0x7f0f5d6265e0>,\n",
              "  <matplotlib.patches.Wedge at 0x7f0f5f71c250>,\n",
              "  <matplotlib.patches.Wedge at 0x7f0f5f722250>,\n",
              "  <matplotlib.patches.Wedge at 0x7f0f5f722af0>,\n",
              "  <matplotlib.patches.Wedge at 0x7f0f5f722820>,\n",
              "  <matplotlib.patches.Wedge at 0x7f0f5f727a00>,\n",
              "  <matplotlib.patches.Wedge at 0x7f0f5f727ac0>,\n",
              "  <matplotlib.patches.Wedge at 0x7f0f64c5cb20>,\n",
              "  <matplotlib.patches.Wedge at 0x7f0f5f6f4460>,\n",
              "  <matplotlib.patches.Wedge at 0x7f0f5f6f40a0>,\n",
              "  <matplotlib.patches.Wedge at 0x7f0f5f822190>,\n",
              "  <matplotlib.patches.Wedge at 0x7f0f5f822f40>,\n",
              "  <matplotlib.patches.Wedge at 0x7f0f5f822d60>,\n",
              "  <matplotlib.patches.Wedge at 0x7f0f5f7ec520>,\n",
              "  <matplotlib.patches.Wedge at 0x7f0f5f7ec430>,\n",
              "  <matplotlib.patches.Wedge at 0x7f0f5f7ece80>,\n",
              "  <matplotlib.patches.Wedge at 0x7f0f5f7ec8e0>,\n",
              "  <matplotlib.patches.Wedge at 0x7f0f5f830610>,\n",
              "  <matplotlib.patches.Wedge at 0x7f0f5f830c70>,\n",
              "  <matplotlib.patches.Wedge at 0x7f0f5f830100>,\n",
              "  <matplotlib.patches.Wedge at 0x7f0f5f7dcfd0>,\n",
              "  <matplotlib.patches.Wedge at 0x7f0f5f7dc640>,\n",
              "  <matplotlib.patches.Wedge at 0x7f0f5f7dcca0>,\n",
              "  <matplotlib.patches.Wedge at 0x7f0f5f7dc5e0>,\n",
              "  <matplotlib.patches.Wedge at 0x7f0f5f850eb0>,\n",
              "  <matplotlib.patches.Wedge at 0x7f0f5f850d90>,\n",
              "  <matplotlib.patches.Wedge at 0x7f0f5f850160>,\n",
              "  <matplotlib.patches.Wedge at 0x7f0f5fcb6880>,\n",
              "  <matplotlib.patches.Wedge at 0x7f0f5dda6220>,\n",
              "  <matplotlib.patches.Wedge at 0x7f0f5f70e940>,\n",
              "  <matplotlib.patches.Wedge at 0x7f0f5f70e100>,\n",
              "  <matplotlib.patches.Wedge at 0x7f0f5f70e670>,\n",
              "  <matplotlib.patches.Wedge at 0x7f0f5f6d0280>,\n",
              "  <matplotlib.patches.Wedge at 0x7f0f5f6d03d0>,\n",
              "  <matplotlib.patches.Wedge at 0x7f0f5f6bc700>,\n",
              "  <matplotlib.patches.Wedge at 0x7f0f5f6bc610>,\n",
              "  <matplotlib.patches.Wedge at 0x7f0f5f6bc760>,\n",
              "  <matplotlib.patches.Wedge at 0x7f0f5f6d5d30>,\n",
              "  <matplotlib.patches.Wedge at 0x7f0f5f6d5880>,\n",
              "  <matplotlib.patches.Wedge at 0x7f0f5f6d5a30>,\n",
              "  <matplotlib.patches.Wedge at 0x7f0f5f6c28b0>,\n",
              "  <matplotlib.patches.Wedge at 0x7f0f5f6c2df0>,\n",
              "  <matplotlib.patches.Wedge at 0x7f0f5f77dd30>,\n",
              "  <matplotlib.patches.Wedge at 0x7f0f5f77d160>,\n",
              "  <matplotlib.patches.Wedge at 0x7f0f5f77da30>,\n",
              "  <matplotlib.patches.Wedge at 0x7f0f5f734be0>,\n",
              "  <matplotlib.patches.Wedge at 0x7f0f5f7342b0>,\n",
              "  <matplotlib.patches.Wedge at 0x7f0f5f7341f0>,\n",
              "  <matplotlib.patches.Wedge at 0x7f0f5f6c90d0>,\n",
              "  <matplotlib.patches.Wedge at 0x7f0f5f6c9490>,\n",
              "  <matplotlib.patches.Wedge at 0x7f0f5f68cca0>,\n",
              "  <matplotlib.patches.Wedge at 0x7f0f5f68c280>,\n",
              "  <matplotlib.patches.Wedge at 0x7f0f5f6daf40>,\n",
              "  <matplotlib.patches.Wedge at 0x7f0f5f6da760>,\n",
              "  <matplotlib.patches.Wedge at 0x7f0f5f6dadf0>,\n",
              "  <matplotlib.patches.Wedge at 0x7f0f5f6e7c70>,\n",
              "  <matplotlib.patches.Wedge at 0x7f0f5f6e7160>,\n",
              "  <matplotlib.patches.Wedge at 0x7f0f5f6e42b0>,\n",
              "  <matplotlib.patches.Wedge at 0x7f0f5f6e4670>,\n",
              "  <matplotlib.patches.Wedge at 0x7f0f5f755b20>,\n",
              "  <matplotlib.patches.Wedge at 0x7f0f5f755e20>,\n",
              "  <matplotlib.patches.Wedge at 0x7f0f5f7552b0>,\n",
              "  <matplotlib.patches.Wedge at 0x7f0f5f755760>,\n",
              "  <matplotlib.patches.Wedge at 0x7f0f5f6ff6d0>,\n",
              "  <matplotlib.patches.Wedge at 0x7f0f5f6fffa0>,\n",
              "  <matplotlib.patches.Wedge at 0x7f0f5f6ff0d0>,\n",
              "  <matplotlib.patches.Wedge at 0x7f0f5f6803d0>,\n",
              "  <matplotlib.patches.Wedge at 0x7f0f5f6806d0>,\n",
              "  <matplotlib.patches.Wedge at 0x7f0f5f6808e0>,\n",
              "  <matplotlib.patches.Wedge at 0x7f0f5f74ff10>,\n",
              "  <matplotlib.patches.Wedge at 0x7f0f5f74f700>,\n",
              "  <matplotlib.patches.Wedge at 0x7f0f5f74fb50>,\n",
              "  <matplotlib.patches.Wedge at 0x7f0f5f74f400>,\n",
              "  <matplotlib.patches.Wedge at 0x7f0f5f7b22b0>,\n",
              "  <matplotlib.patches.Wedge at 0x7f0f5f7b27f0>,\n",
              "  <matplotlib.patches.Wedge at 0x7f0f5f7b2dc0>,\n",
              "  <matplotlib.patches.Wedge at 0x7f0f5d4745b0>,\n",
              "  <matplotlib.patches.Wedge at 0x7f0f5d474be0>,\n",
              "  <matplotlib.patches.Wedge at 0x7f0f5cd0e250>,\n",
              "  <matplotlib.patches.Wedge at 0x7f0f5cd0e6a0>,\n",
              "  <matplotlib.patches.Wedge at 0x7f0f5cd0eb20>,\n",
              "  <matplotlib.patches.Wedge at 0x7f0f5cd0efa0>,\n",
              "  <matplotlib.patches.Wedge at 0x7f0f5cd1b460>,\n",
              "  <matplotlib.patches.Wedge at 0x7f0f5cd1b8e0>,\n",
              "  <matplotlib.patches.Wedge at 0x7f0f5cd1bd60>,\n",
              "  <matplotlib.patches.Wedge at 0x7f0f5cd2c220>,\n",
              "  <matplotlib.patches.Wedge at 0x7f0f5cd2c6a0>,\n",
              "  <matplotlib.patches.Wedge at 0x7f0f5cd2cb20>,\n",
              "  <matplotlib.patches.Wedge at 0x7f0f5cd2cfa0>,\n",
              "  <matplotlib.patches.Wedge at 0x7f0f5cd39460>,\n",
              "  <matplotlib.patches.Wedge at 0x7f0f5cd398e0>,\n",
              "  <matplotlib.patches.Wedge at 0x7f0f5cd39d60>,\n",
              "  <matplotlib.patches.Wedge at 0x7f0f5cd47220>,\n",
              "  <matplotlib.patches.Wedge at 0x7f0f5cd476a0>,\n",
              "  <matplotlib.patches.Wedge at 0x7f0f5cd47b20>,\n",
              "  <matplotlib.patches.Wedge at 0x7f0f5cd47fa0>,\n",
              "  <matplotlib.patches.Wedge at 0x7f0f5ccd7460>,\n",
              "  <matplotlib.patches.Wedge at 0x7f0f5ccd78e0>,\n",
              "  <matplotlib.patches.Wedge at 0x7f0f5ccd7d60>,\n",
              "  <matplotlib.patches.Wedge at 0x7f0f5cce6220>,\n",
              "  <matplotlib.patches.Wedge at 0x7f0f5cce66a0>,\n",
              "  <matplotlib.patches.Wedge at 0x7f0f5cce6b20>,\n",
              "  <matplotlib.patches.Wedge at 0x7f0f5cce6fa0>,\n",
              "  <matplotlib.patches.Wedge at 0x7f0f5ccf3460>,\n",
              "  <matplotlib.patches.Wedge at 0x7f0f5ccf38e0>,\n",
              "  <matplotlib.patches.Wedge at 0x7f0f5ccf3d60>,\n",
              "  <matplotlib.patches.Wedge at 0x7f0f5cd02220>,\n",
              "  <matplotlib.patches.Wedge at 0x7f0f5cd026a0>,\n",
              "  <matplotlib.patches.Wedge at 0x7f0f5cd02b20>,\n",
              "  <matplotlib.patches.Wedge at 0x7f0f5cd02fa0>,\n",
              "  <matplotlib.patches.Wedge at 0x7f0f5cc90460>,\n",
              "  <matplotlib.patches.Wedge at 0x7f0f5cc908e0>,\n",
              "  <matplotlib.patches.Wedge at 0x7f0f5cc90d60>,\n",
              "  <matplotlib.patches.Wedge at 0x7f0f5cca0220>,\n",
              "  <matplotlib.patches.Wedge at 0x7f0f5cca06a0>,\n",
              "  <matplotlib.patches.Wedge at 0x7f0f5cca0b20>,\n",
              "  <matplotlib.patches.Wedge at 0x7f0f5cca0fa0>,\n",
              "  <matplotlib.patches.Wedge at 0x7f0f5ccaf460>,\n",
              "  <matplotlib.patches.Wedge at 0x7f0f5ccaf8e0>,\n",
              "  <matplotlib.patches.Wedge at 0x7f0f5ccafd60>,\n",
              "  <matplotlib.patches.Wedge at 0x7f0f5ccbc220>,\n",
              "  <matplotlib.patches.Wedge at 0x7f0f5ccbc6a0>],\n",
              " [Text(1.0998162248289156, 0.020106506486022895, ''),\n",
              "  Text(1.0983893303845753, 0.059505284616782936, ''),\n",
              "  Text(1.0956920682406373, 0.0972568331509659, ''),\n",
              "  Text(1.091842090596001, 0.1337192925607762, ''),\n",
              "  Text(1.0865955946241563, 0.17120167564418406, ''),\n",
              "  Text(1.0794604973247504, 0.21157749104146875, ''),\n",
              "  Text(1.0711853524326178, 0.25012385078958144, ''),\n",
              "  Text(1.061946535861541, 0.2868266984987159, ''),\n",
              "  Text(1.051681945368862, 0.322436173195822, ''),\n",
              "  Text(1.0403517900227819, 0.35730680513585744, ''),\n",
              "  Text(1.0264549462634536, 0.39546206302411735, ''),\n",
              "  Text(1.0113144459682202, 0.4327159476792971, ''),\n",
              "  Text(0.9958295372217366, 0.4672510383046166, ''),\n",
              "  Text(0.9800624176136543, 0.4994773844542706, ''),\n",
              "  Text(0.9613427184591771, 0.5346215274991455, ''),\n",
              "  Text(0.9384959352390051, 0.5737816479636355, ''),\n",
              "  Text(0.9149313166628202, 0.6106559471499793, ''),\n",
              "  Text(0.8913070906159923, 0.644648485779386, ''),\n",
              "  Text(0.8656913561814885, 0.6786593223648043, ''),\n",
              "  Text(0.8387785851090395, 0.7116533462033873, ''),\n",
              "  Text(0.8114081835347964, 0.7427090680022442, ''),\n",
              "  Text(0.7828886692191259, 0.7727129684483793, ''),\n",
              "  Text(0.7555559028440736, 0.7994593658701341, ''),\n",
              "  Text(0.7273099441970501, 0.8252395077019059, ''),\n",
              "  Text(0.6975754143028088, 0.8505225107898468, ''),\n",
              "  Text(0.6672761298553448, 0.8744956069216548, ''),\n",
              "  Text(0.635510182136509, 0.8978456484278471, ''),\n",
              "  Text(0.6022682079207882, 0.9204743373543244, ''),\n",
              "  Text(0.5675460162908743, 0.9422799580763451, ''),\n",
              "  Text(0.5337598619772879, 0.9618214022062447, ''),\n",
              "  Text(0.500706438369625, 0.9794350731800475, ''),\n",
              "  Text(0.46457234995892716, 0.9970820084895927, ''),\n",
              "  Text(0.42636404881668055, 1.0140087267260807, ''),\n",
              "  Text(0.38717136615048314, 1.029610767830819, ''),\n",
              "  Text(0.34853134821939424, 1.0433244458500777, ''),\n",
              "  Text(0.3112983441692094, 1.0550323885632653, ''),\n",
              "  Text(0.27138156904292254, 1.0659981444560782, ''),\n",
              "  Text(0.23146591953507478, 1.075371344277772, ''),\n",
              "  Text(0.19549808527875648, 1.0824881055477424, ''),\n",
              "  Text(0.15853278810810947, 1.088516125325973, ''),\n",
              "  Text(0.1190322667634038, 1.0935407260222028, ''),\n",
              "  Text(0.08173502068710135, 1.0969591543869257, ''),\n",
              "  Text(0.04670659369297162, 1.0990079590729085, ''),\n",
              "  Text(0.009659397975327217, 1.0999575882872732, ''),\n",
              "  Text(-0.030157685125645782, 1.0995865195735453, ''),\n",
              "  Text(-0.06914829436090036, 1.0978244456136776, ''),\n",
              "  Text(-0.10805184689288022, 1.0946802265424538, ''),\n",
              "  Text(-0.14603784605053147, 1.090262788285889, ''),\n",
              "  Text(-0.18462473525811582, 1.0843955492028132, ''),\n",
              "  Text(-0.2245232827490888, 1.0768422797715425, ''),\n",
              "  Text(-0.27061738504094857, 1.066192398638069, ''),\n",
              "  Text(-0.321493692990292, 1.0519704393981155, ''),\n",
              "  Text(-0.37125742153658464, 1.0354554200708048, ''),\n",
              "  Text(-0.4168961245760817, 1.0179379260610366, ''),\n",
              "  Text(-0.4602795627875582, 0.9990709304549374, ''),\n",
              "  Text(-0.5035128453485936, 0.9779953039605882, ''),\n",
              "  Text(-0.5450987367740305, 0.9554409281412202, ''),\n",
              "  Text(-0.5830040891928152, 0.9327948498916877, ''),\n",
              "  Text(-0.6209467363834421, 0.9079786068926692, ''),\n",
              "  Text(-0.6587821500841263, 0.88091207207674, ''),\n",
              "  Text(-0.6905403133343316, 0.8562441682488257, ''),\n",
              "  Text(-0.7234568743808283, 0.8286194246523084, ''),\n",
              "  Text(-0.7581309124480674, 0.7970178916377354, ''),\n",
              "  Text(-0.7919733832912981, 0.7633990831525375, ''),\n",
              "  Text(-0.8232813877627398, 0.7295257065816511, ''),\n",
              "  Text(-0.8546330811558988, 0.6925332458402088, ''),\n",
              "  Text(-0.8843239817410733, 0.65419499793075, ''),\n",
              "  Text(-0.9103091060361099, 0.617525166667512, ''),\n",
              "  Text(-0.936019391426093, 0.5778128580036331, ''),\n",
              "  Text(-0.9596131421823119, 0.5377198316511956, ''),\n",
              "  Text(-0.9809559827323322, 0.49772016228162236, ''),\n",
              "  Text(-1.0014495914638, 0.4550809991166278, ''),\n",
              "  Text(-1.0206799230338996, 0.41013716573301784, ''),\n",
              "  Text(-1.0378944085408572, 0.3643833101551498, ''),\n",
              "  Text(-1.053172928084864, 0.3175323346513769, ''),\n",
              "  Text(-1.0668199890671155, 0.26813263681775035, ''),\n",
              "  Text(-1.0784629360853957, 0.21660492951469956, ''),\n",
              "  Text(-1.0876775074411629, 0.1641878186912143, ''),\n",
              "  Text(-1.0940220714534004, 0.11452382796960192, ''),\n",
              "  Text(-1.0978614659367807, 0.06855801638862484, ''),\n",
              "  Text(-1.099728403787795, 0.02444254287811964, ''),\n",
              "  Text(-1.099837208824005, -0.018923902510388106, ''),\n",
              "  Text(-1.098168993040182, -0.06344180581535332, ''),\n",
              "  Text(-1.0945045259880575, -0.1098173146259632, ''),\n",
              "  Text(-1.0891050421892536, -0.15443512255294814, ''),\n",
              "  Text(-1.081887470150612, -0.1987951255214995, ''),\n",
              "  Text(-1.0717207761745113, -0.24781964796178538, ''),\n",
              "  Text(-1.05901454120877, -0.29746966485404686, ''),\n",
              "  Text(-1.0453673964077235, -0.3423550883625621, ''),\n",
              "  Text(-1.030923118624841, -0.3836632944195107, ''),\n",
              "  Text(-1.0149992886385213, -0.4240005236592237, ''),\n",
              "  Text(-0.9964984116608475, -0.4658228370930393, ''),\n",
              "  Text(-0.9757296098337462, -0.5078894845275745, ''),\n",
              "  Text(-0.9553432310253922, -0.5452699431785731, ''),\n",
              "  Text(-0.933942341390526, -0.5811640929702921, ''),\n",
              "  Text(-0.9096445530266677, -0.618503667854051, ''),\n",
              "  Text(-0.8836200135299055, -0.6551455347397322, ''),\n",
              "  Text(-0.8548812283593378, -0.6922269031169115, ''),\n",
              "  Text(-0.8261512422413778, -0.7262741389744154, ''),\n",
              "  Text(-0.7974253889761944, -0.7577022825728884, ''),\n",
              "  Text(-0.7641084467208058, -0.7912890000814605, ''),\n",
              "  Text(-0.72908298545701, -0.8236734791876533, ''),\n",
              "  Text(-0.6902333444635523, -0.8564916404674707, ''),\n",
              "  Text(-0.6483168430501103, -0.8886423752092508, ''),\n",
              "  Text(-0.6068795078009365, -0.9174406046231512, ''),\n",
              "  Text(-0.5597588909534752, -0.9469265990553523, ''),\n",
              "  Text(-0.5167861334070564, -0.9710469053131184, ''),\n",
              "  Text(-0.4738439042676005, -0.9927094007756939, ''),\n",
              "  Text(-0.42345474635793434, -1.0152271065071785, ''),\n",
              "  Text(-0.37237057475109175, -1.0350556289685795, ''),\n",
              "  Text(-0.3211165888817267, -1.0520856126499232, ''),\n",
              "  Text(-0.272145672854887, -1.0658033274231982, ''),\n",
              "  Text(-0.2214345965777744, -1.0774816561957974, ''),\n",
              "  Text(-0.17295403108002122, -1.0863180487928805, ''),\n",
              "  Text(-0.1280430327334192, -1.0925223026411994, ''),\n",
              "  Text(-0.08016224379216594, -1.0970752092132086, ''),\n",
              "  Text(-0.029369409518993063, -1.099607856367217, ''),\n",
              "  Text(0.02661044291503342, -1.0996780821348882, ''),\n",
              "  Text(0.08723847178574616, -1.0965352019157832, ''),\n",
              "  Text(0.14095614763882325, -1.0909314205956406, ''),\n",
              "  Text(0.1912286982302155, -1.083250471946898, ''),\n",
              "  Text(0.23955353432898002, -1.0735986699835718, ''),\n",
              "  Text(0.2904409834828607, -1.0609637294052559, ''),\n",
              "  Text(0.3432916451210631, -1.0450602118490944, ''),\n",
              "  Text(0.3915962352473558, -1.0279359846508427, ''),\n",
              "  Text(0.44230199010797017, -1.007158850205135, ''),\n",
              "  Text(0.49014609001449166, -0.984762311648606, ''),\n",
              "  Text(0.5330702485251827, -0.9622037778648035, ''),\n",
              "  Text(0.5756305982250627, -0.937363010997904, ''),\n",
              "  Text(0.6206212222309659, -0.90820113329402, ''),\n",
              "  Text(0.6672761388105527, -0.8744956000884626, ''),\n",
              "  Text(0.7142054514117838, -0.8366065820764802, ''),\n",
              "  Text(0.7561288060575763, -0.7989175355754463, ''),\n",
              "  Text(0.7916996875179442, -0.7636829216265019, ''),\n",
              "  Text(0.8248483415991666, -0.7277535388860056, ''),\n",
              "  Text(0.8598214437517994, -0.686080960867281, ''),\n",
              "  Text(0.8931518908096354, -0.6420901026671983, ''),\n",
              "  Text(0.9214445262374452, -0.6007828102293293, ''),\n",
              "  Text(0.9472273986527301, -0.5592497252941497, ''),\n",
              "  Text(0.9720637672700949, -0.5148708890204134, ''),\n",
              "  Text(0.9959969471014745, -0.46689407938476035, ''),\n",
              "  Text(1.017563958091165, -0.41780807937836933, ''),\n",
              "  Text(1.0355219426017486, -0.37107183454191334, ''),\n",
              "  Text(1.0512185867541617, -0.3239436414912063, ''),\n",
              "  Text(1.0656568538140117, -0.2727186644130219, ''),\n",
              "  Text(1.0775213193607978, -0.2212415113014868, ''),\n",
              "  Text(1.0866568858167311, -0.17081221416246548, ''),\n",
              "  Text(1.0933473116973982, -0.12079592710051475, ''),\n",
              "  Text(1.097711488457558, -0.07091888400343593, ''),\n",
              "  Text(1.0997540499435292, -0.02326004369740927, '')])"
            ]
          },
          "metadata": {},
          "execution_count": 82
        },
        {
          "output_type": "display_data",
          "data": {
            "text/plain": [
              "<Figure size 432x288 with 1 Axes>"
            ],
            "image/png": "[encoded data removed]"
          },
          "metadata": {}
        }
      ]
    },
    {
      "cell_type": "code",
      "source": [
        "X = df.sepal_length\n",
        "Y = df.sepal_width\n",
        "plt.scatter(X,Y)"
      ],
      "metadata": {
        "colab": {
          "base_uri": "https://localhost:8080/",
          "height": 285
        },
        "id": "2xUedkYvWaE8",
        "outputId": "15b518a7-d45c-4b07-8834-c0d27d540f00"
      },
      "execution_count": 83,
      "outputs": [
        {
          "output_type": "execute_result",
          "data": {
            "text/plain": [
              "<matplotlib.collections.PathCollection at 0x7f0f5cc86940>"
            ]
          },
          "metadata": {},
          "execution_count": 83
        },
        {
          "output_type": "display_data",
          "data": {
            "text/plain": [
              "<Figure size 432x288 with 1 Axes>"
            ],
            "image/png": "[encoded data removed]"
          },
          "metadata": {
            "needs_background": "light"
          }
        }
      ]
    },
    {
      "cell_type": "code",
      "source": [
        "X = df.sepal_length\n",
        "Y = df.sepal_width\n",
        "plt.plot(X,Y)"
      ],
      "metadata": {
        "colab": {
          "base_uri": "https://localhost:8080/",
          "height": 285
        },
        "id": "okp4KlmdWdjU",
        "outputId": "967cf959-12c9-4129-830d-0b00e3d0ba5a"
      },
      "execution_count": 84,
      "outputs": [
        {
          "output_type": "execute_result",
          "data": {
            "text/plain": [
              "[<matplotlib.lines.Line2D at 0x7f0f5cc31280>]"
            ]
          },
          "metadata": {},
          "execution_count": 84
        },
        {
          "output_type": "display_data",
          "data": {
            "text/plain": [
              "<Figure size 432x288 with 1 Axes>"
            ],
            "image/png": "[encoded data removed]"
          },
          "metadata": {
            "needs_background": "light"
          }
        }
      ]
    },
    {
      "cell_type": "code",
      "source": [
        "\n",
        "plt.figure(figsize=(20,15))\n",
        "plotnumber = 1\n",
        "\n",
        "for col in df.columns:\n",
        "  if plotnumber <=4:\n",
        "    ax=plt.subplot(5,5,plotnumber)\n",
        "    sns.boxplot(df[col])\n",
        "    plt.xlabel(col, fontsize = 15)\n",
        "\n",
        "  plotnumber += 1\n",
        "plt.tight_layout()\n",
        "plt.show()"
      ],
      "metadata": {
        "colab": {
          "base_uri": "https://localhost:8080/",
          "height": 243
        },
        "id": "PR4FJYiCWMac",
        "outputId": "0896d230-e77f-4b81-d52b-2a4167e9e5f9"
      },
      "execution_count": 85,
      "outputs": [
        {
          "output_type": "display_data",
          "data": {
            "text/plain": [
              "<Figure size 1440x1080 with 4 Axes>"
            ],
            "image/png": "[encoded data removed]"
          },
          "metadata": {
            "needs_background": "light"
          }
        }
      ]
    },
    {
      "cell_type": "code",
      "source": [
        "Y = df.sepal_width\n",
        "plt.hist(Y)"
      ],
      "metadata": {
        "colab": {
          "base_uri": "https://localhost:8080/",
          "height": 317
        },
        "id": "EMnLHUe3WPL7",
        "outputId": "7b520407-9202-4d65-ff87-5672ff27ec9b"
      },
      "execution_count": 86,
      "outputs": [
        {
          "output_type": "execute_result",
          "data": {
            "text/plain": [
              "(array([ 4.,  7., 22., 24., 38., 31.,  9., 11.,  2.,  2.]),\n",
              " array([2.  , 2.24, 2.48, 2.72, 2.96, 3.2 , 3.44, 3.68, 3.92, 4.16, 4.4 ]),\n",
              " <BarContainer object of 10 artists>)"
            ]
          },
          "metadata": {},
          "execution_count": 86
        },
        {
          "output_type": "display_data",
          "data": {
            "text/plain": [
              "<Figure size 432x288 with 1 Axes>"
            ],
            "image/png": "[encoded data removed]"
          },
          "metadata": {
            "needs_background": "light"
          }
        }
      ]
    },
    {
      "cell_type": "code",
      "source": [
        "df.info"
      ],
      "metadata": {
        "colab": {
          "base_uri": "https://localhost:8080/"
        },
        "id": "ku44KyxtTfFT",
        "outputId": "64ad98ae-2f55-4663-f10d-68db5f90a419"
      },
      "execution_count": 87,
      "outputs": [
        {
          "output_type": "execute_result",
          "data": {
            "text/plain": [
              "<bound method DataFrame.info of      sepal_length  sepal_width  petal_length  petal_width         species\n",
              "0             5.1          3.5           1.4          0.2     Iris-setosa\n",
              "1             4.9          3.0           1.4          0.2     Iris-setosa\n",
              "2             4.7          3.2           1.3          0.2     Iris-setosa\n",
              "3             4.6          3.1           1.5          0.2     Iris-setosa\n",
              "4             5.0          3.6           1.4          0.2     Iris-setosa\n",
              "..            ...          ...           ...          ...             ...\n",
              "145           6.7          3.0           5.2          2.3  Iris-virginica\n",
              "146           6.3          2.5           5.0          1.9  Iris-virginica\n",
              "147           6.5          3.0           5.2          2.0  Iris-virginica\n",
              "148           6.2          3.4           5.4          2.3  Iris-virginica\n",
              "149           5.9          3.0           5.1          1.8  Iris-virginica\n",
              "\n",
              "[150 rows x 5 columns]>"
            ]
          },
          "metadata": {},
          "execution_count": 87
        }
      ]
    },
    {
      "cell_type": "code",
      "source": [
        "import missingno as mn\n",
        "mn.bar(df)\n",
        "plt.show"
      ],
      "metadata": {
        "colab": {
          "base_uri": "https://localhost:8080/",
          "height": 721
        },
        "id": "Q3ijdQ0IThTs",
        "outputId": "d24a808b-a678-47e5-8e6a-2b62ae4456dc"
      },
      "execution_count": 88,
      "outputs": [
        {
          "output_type": "execute_result",
          "data": {
            "text/plain": [
              "<function matplotlib.pyplot.show(close=None, block=None)>"
            ]
          },
          "metadata": {},
          "execution_count": 88
        },
        {
          "output_type": "display_data",
          "data": {
            "text/plain": [
              "<Figure size 1800x720 with 3 Axes>"
            ],
            "image/png": "[encoded data removed]"
          },
          "metadata": {
            "needs_background": "light"
          }
        }
      ]
    },
    {
      "cell_type": "code",
      "source": [
        "X = df.drop('species', axis=1)\n",
        "Y= df.species"
      ],
      "metadata": {
        "id": "No2y43TPacFk"
      },
      "execution_count": 89,
      "outputs": []
    },
    {
      "cell_type": "code",
      "source": [
        "X_train, X_test, Y_train, Y_test=train_test_split(X,Y,test_size = 0.4, random_state = 0)"
      ],
      "metadata": {
        "id": "AAnDkxUwUsc8"
      },
      "execution_count": 90,
      "outputs": []
    },
    {
      "cell_type": "code",
      "source": [
        "a = StandardScaler()\n",
        "X_train = a.fit_transform(X_train)\n",
        "X_test = a.transform(X_test)"
      ],
      "metadata": {
        "id": "nb4RfF47YSNc"
      },
      "execution_count": 91,
      "outputs": []
    },
    {
      "cell_type": "code",
      "source": [
        "classifier = KNeighborsClassifier(n_neighbors = 5)\n",
        "classifier.fit(X_train, Y_train)+ "
      ],
      "metadata": {
        "colab": {
          "base_uri": "https://localhost:8080/",
          "height": 75
        },
        "id": "jS66_1gwaYN7",
        "outputId": "cae2fe91-5ee1-4f04-bd83-7ac182593a0d"
      },
      "execution_count": 92,
      "outputs": [
        {
          "output_type": "execute_result",
          "data": {
            "text/plain": [
              "KNeighborsClassifier()"
            ],
            "text/html": [
              "<style>#sk-container-id-2 {color: black;background-color: white;}#sk-container-id-2 pre{padding: 0;}#sk-container-id-2 div.sk-toggleable {background-color: white;}#sk-container-id-2 label.sk-toggleable__label {cursor: pointer;display: block;width: 100%;margin-bottom: 0;padding: 0.3em;box-sizing: border-box;text-align: center;}#sk-container-id-2 label.sk-toggleable__label-arrow:before {content: \"▸\";float: left;margin-right: 0.25em;color: #696969;}#sk-container-id-2 label.sk-toggleable__label-arrow:hover:before {color: black;}#sk-container-id-2 div.sk-estimator:hover label.sk-toggleable__label-arrow:before {color: black;}#sk-container-id-2 div.sk-toggleable__content {max-height: 0;max-width: 0;overflow: hidden;text-align: left;background-color: #f0f8ff;}#sk-container-id-2 div.sk-toggleable__content pre {margin: 0.2em;color: black;border-radius: 0.25em;background-color: #f0f8ff;}#sk-container-id-2 input.sk-toggleable__control:checked~div.sk-toggleable__content {max-height: 200px;max-width: 100%;overflow: auto;}#sk-container-id-2 input.sk-toggleable__control:checked~label.sk-toggleable__label-arrow:before {content: \"▾\";}#sk-container-id-2 div.sk-estimator input.sk-toggleable__control:checked~label.sk-toggleable__label {background-color: #d4ebff;}#sk-container-id-2 div.sk-label input.sk-toggleable__control:checked~label.sk-toggleable__label {background-color: #d4ebff;}#sk-container-id-2 input.sk-hidden--visually {border: 0;clip: rect(1px 1px 1px 1px);clip: rect(1px, 1px, 1px, 1px);height: 1px;margin: -1px;overflow: hidden;padding: 0;position: absolute;width: 1px;}#sk-container-id-2 div.sk-estimator {font-family: monospace;background-color: #f0f8ff;border: 1px dotted black;border-radius: 0.25em;box-sizing: border-box;margin-bottom: 0.5em;}#sk-container-id-2 div.sk-estimator:hover {background-color: #d4ebff;}#sk-container-id-2 div.sk-parallel-item::after {content: \"\";width: 100%;border-bottom: 1px solid gray;flex-grow: 1;}#sk-container-id-2 div.sk-label:hover label.sk-toggleable__label {background-color: #d4ebff;}#sk-container-id-2 div.sk-serial::before {content: \"\";position: absolute;border-left: 1px solid gray;box-sizing: border-box;top: 0;bottom: 0;left: 50%;z-index: 0;}#sk-container-id-2 div.sk-serial {display: flex;flex-direction: column;align-items: center;background-color: white;padding-right: 0.2em;padding-left: 0.2em;position: relative;}#sk-container-id-2 div.sk-item {position: relative;z-index: 1;}#sk-container-id-2 div.sk-parallel {display: flex;align-items: stretch;justify-content: center;background-color: white;position: relative;}#sk-container-id-2 div.sk-item::before, #sk-container-id-2 div.sk-parallel-item::before {content: \"\";position: absolute;border-left: 1px solid gray;box-sizing: border-box;top: 0;bottom: 0;left: 50%;z-index: -1;}#sk-container-id-2 div.sk-parallel-item {display: flex;flex-direction: column;z-index: 1;position: relative;background-color: white;}#sk-container-id-2 div.sk-parallel-item:first-child::after {align-self: flex-end;width: 50%;}#sk-container-id-2 div.sk-parallel-item:last-child::after {align-self: flex-start;width: 50%;}#sk-container-id-2 div.sk-parallel-item:only-child::after {width: 0;}#sk-container-id-2 div.sk-dashed-wrapped {border: 1px dashed gray;margin: 0 0.4em 0.5em 0.4em;box-sizing: border-box;padding-bottom: 0.4em;background-color: white;}#sk-container-id-2 div.sk-label label {font-family: monospace;font-weight: bold;display: inline-block;line-height: 1.2em;}#sk-container-id-2 div.sk-label-container {text-align: center;}#sk-container-id-2 div.sk-container {/* jupyter's `normalize.less` sets `[hidden] { display: none; }` but bootstrap.min.css set `[hidden] { display: none !important; }` so we also need the `!important` here to be able to override the default hidden behavior on the sphinx rendered scikit-learn.org. See: https://github.com/scikit-learn/scikit-learn/issues/21755 */display: inline-block !important;position: relative;}#sk-container-id-2 div.sk-text-repr-fallback {display: none;}</style><div id=\"sk-container-id-2\" class=\"sk-top-container\"><div class=\"sk-text-repr-fallback\"><pre>KNeighborsClassifier()</pre><b>In a Jupyter environment, please rerun this cell to show the HTML representation or trust the notebook. <br />On GitHub, the HTML representation is unable to render, please try loading this page with nbviewer.org.</b></div><div class=\"sk-container\" hidden><div class=\"sk-item\"><div class=\"sk-estimator sk-toggleable\"><input class=\"sk-toggleable__control sk-hidden--visually\" id=\"sk-estimator-id-2\" type=\"checkbox\" checked><label for=\"sk-estimator-id-2\" class=\"sk-toggleable__label sk-toggleable__label-arrow\">KNeighborsClassifier</label><div class=\"sk-toggleable__content\"><pre>KNeighborsClassifier()</pre></div></div></div></div></div>"
            ]
          },
          "metadata": {},
          "execution_count": 92
        }
      ]
    },
    {
      "cell_type": "code",
      "source": [
        "Y_pred = classifier.predict(X_test)"
      ],
      "metadata": {
        "id": "OOkMVUdEa6zD"
      },
      "execution_count": 93,
      "outputs": []
    },
    {
      "cell_type": "code",
      "source": [
        "cm = confusion_matrix(Y_test,Y_pred)\n",
        "cm"
      ],
      "metadata": {
        "colab": {
          "base_uri": "https://localhost:8080/"
        },
        "id": "LLjDMxabbBOS",
        "outputId": "a90b87c7-a99d-4b95-a017-bd9f58aaa9f8"
      },
      "execution_count": 94,
      "outputs": [
        {
          "output_type": "execute_result",
          "data": {
            "text/plain": [
              "array([[16,  0,  0],\n",
              "       [ 0, 22,  1],\n",
              "       [ 0,  3, 18]])"
            ]
          },
          "metadata": {},
          "execution_count": 94
        }
      ]
    },
    {
      "cell_type": "code",
      "source": [
        "accuracy_score(Y_test, Y_pred)"
      ],
      "metadata": {
        "colab": {
          "base_uri": "https://localhost:8080/"
        },
        "id": "RZwwwAPBbDly",
        "outputId": "d0fe4c5c-361d-489b-cc24-a22e94eabf50"
      },
      "execution_count": 95,
      "outputs": [
        {
          "output_type": "execute_result",
          "data": {
            "text/plain": [
              "0.9333333333333333"
            ]
          },
          "metadata": {},
          "execution_count": 95
        }
      ]
    },
    {
      "cell_type": "code",
      "source": [
        "print(\"Precision :\",metrics.precision_score(Y_test,Y_pred,average='micro'))\n",
        "print(\"Recall : \",metrics.recall_score(Y_test, Y_pred,average='micro'))"
      ],
      "metadata": {
        "colab": {
          "base_uri": "https://localhost:8080/"
        },
        "id": "_1jA4SMUbP0K",
        "outputId": "5e967f46-2657-4b9e-9c34-412c2fcb6e5c"
      },
      "execution_count": 97,
      "outputs": [
        {
          "output_type": "stream",
          "name": "stdout",
          "text": [
            "Precision : 0.9333333333333333\n",
            "Recall :  0.9333333333333333\n"
          ]
        }
      ]
    },
    {
      "cell_type": "code",
      "source": [],
      "metadata": {
        "id": "ribCMM8gbZJi"
      },
      "execution_count": null,
      "outputs": []
    }
  ]
}